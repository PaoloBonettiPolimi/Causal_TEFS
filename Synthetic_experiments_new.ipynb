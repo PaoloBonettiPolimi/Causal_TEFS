{
 "cells": [
  {
   "cell_type": "markdown",
   "id": "f5797c20",
   "metadata": {
    "heading_collapsed": true
   },
   "source": [
    "# Preliminaries"
   ]
  },
  {
   "cell_type": "code",
   "execution_count": null,
   "id": "22ca6d82",
   "metadata": {
    "hidden": true
   },
   "outputs": [],
   "source": [
    "import random\n",
    "import numpy as np\n",
    "import seaborn\n",
    "import pandas as pd\n",
    "import sys\n",
    "import matplotlib.pyplot as plt\n",
    "from sklearn.linear_model import LinearRegression"
   ]
  },
  {
   "cell_type": "code",
   "execution_count": null,
   "id": "feea4c97",
   "metadata": {
    "hidden": true
   },
   "outputs": [],
   "source": [
    "import tigramite\n",
    "from tigramite import data_processing as pp\n",
    "from tigramite.toymodels import structural_causal_processes as toys\n",
    "\n",
    "from tigramite import plotting as tp\n",
    "from tigramite.pcmci import PCMCI\n",
    "from tigramite.lpcmci import LPCMCI\n",
    "\n",
    "from tigramite.independence_tests.parcorr import ParCorr\n",
    "from tigramite.independence_tests.robust_parcorr import RobustParCorr\n",
    "from tigramite.independence_tests.parcorr_wls import ParCorrWLS \n",
    "#from tigramite.independence_tests.gpdc import GPDC\n",
    "from tigramite.independence_tests.cmiknn import CMIknn\n",
    "from tigramite.independence_tests.cmisymb import CMIsymb\n",
    "from tigramite.independence_tests.gsquared import Gsquared\n",
    "from tigramite.independence_tests.regressionCI import RegressionCI"
   ]
  },
  {
   "cell_type": "code",
   "execution_count": null,
   "id": "e09b145a",
   "metadata": {
    "hidden": true
   },
   "outputs": [],
   "source": [
    "sys.path.append(\"../causalFS/CMI_FS\")\n",
    "from mixedRVMI import MIEstimate,estimateAllMI,CMIEstimate\n",
    "from feature_selection import backwardFeatureSelection,forwardFeatureSelection\n",
    "sys.path.append(\"../causalFS/CMI\")\n",
    "from FS import backwardFeatureSelection, forwardFeatureSelection\n",
    "from TE_FS import TE_backwardFeatureSelection, TE_forwardFeatureSelection\n",
    "\n",
    "sys.path.append(\"../causalFS/data\")\n",
    "from dataset_generation import generate_dataset\n"
   ]
  },
  {
   "cell_type": "code",
   "execution_count": null,
   "id": "996cdcdb",
   "metadata": {
    "hidden": true
   },
   "outputs": [],
   "source": [
    "def run_PCMCI(df,tau=0,cond_test=ParCorr()):    \n",
    "\n",
    "    dataframe = pp.DataFrame(df.values)\n",
    "    \n",
    "    cond_ind_test = cond_test\n",
    "    pcmci = PCMCI(dataframe=dataframe, cond_ind_test=cond_ind_test)\n",
    "    results = pcmci.run_pcmciplus(tau_min=1, tau_max=tau)\n",
    "    #results = pcmci.run_pcmci(tau_max=tau, pc_alpha=0.01)\n",
    "\n",
    "    pcmci.print_significant_links(p_matrix=results['p_matrix'],val_matrix=results['val_matrix'])\n",
    "    print(results['p_matrix'])\n",
    "    \n",
    "    tp.plot_graph(\n",
    "    val_matrix=results['val_matrix'],\n",
    "    graph=results['graph'],\n",
    "    var_names=list(df.columns),\n",
    "    link_colorbar_label='cross-MCI',\n",
    "    node_colorbar_label='auto-MCI',\n",
    "    show_autodependency_lags=False\n",
    "    )\n",
    "    plt.show()\n",
    "    \n",
    "    tp.plot_time_series_graph(\n",
    "    figsize=(6, 4),\n",
    "    val_matrix=results['val_matrix'],\n",
    "    graph=results['graph'],\n",
    "    var_names=list(df.columns),\n",
    "    link_colorbar_label='MCI',\n",
    "    )\n",
    "    plt.show()\n",
    "    \n",
    "    return results['p_matrix']\n",
    "    "
   ]
  },
  {
   "cell_type": "code",
   "execution_count": null,
   "id": "f2f94b50",
   "metadata": {
    "hidden": true
   },
   "outputs": [],
   "source": [
    "def run_fullCI(df,tau=0,cond_test=ParCorr()):    \n",
    "\n",
    "    dataframe = pp.DataFrame(df.values)\n",
    "    \n",
    "    cond_ind_test = cond_test\n",
    "    pcmci = PCMCI(dataframe=dataframe, cond_ind_test=cond_ind_test)\n",
    "    #results = pcmci.run_pcmciplus(tau_max=tau, pc_alpha=0.01)\n",
    "    #results = pcmci.run_pcmci(tau_max=tau, pc_alpha=0.01)\n",
    "    results = pcmci.run_fullci(tau_min=1, tau_max=tau)\n",
    "\n",
    "    pcmci.print_significant_links(p_matrix=results['p_matrix'],val_matrix=results['val_matrix'])\n",
    "    \n",
    "    tp.plot_graph(\n",
    "    val_matrix=results['val_matrix'],\n",
    "    graph=results['graph'],\n",
    "    var_names=list(df.columns),\n",
    "    link_colorbar_label='cross-MCI',\n",
    "    node_colorbar_label='auto-MCI',\n",
    "    show_autodependency_lags=False\n",
    "    )\n",
    "    plt.show()\n",
    "    \n",
    "    tp.plot_time_series_graph(\n",
    "    figsize=(6, 4),\n",
    "    val_matrix=results['val_matrix'],\n",
    "    graph=results['graph'],\n",
    "    var_names=list(df.columns),\n",
    "    link_colorbar_label='MCI',\n",
    "    )\n",
    "    plt.show()\n",
    "    \n",
    "    return results['p_matrix']\n",
    "    "
   ]
  },
  {
   "cell_type": "code",
   "execution_count": null,
   "id": "250bc581",
   "metadata": {
    "hidden": true
   },
   "outputs": [],
   "source": [
    "def concatenate_past(x,lag):\n",
    "    lag_x = x[lag-1:-1].reshape(-1,1)\n",
    "    if lag<=1: return lag_x\n",
    "        \n",
    "    for i in range(lag-1):\n",
    "        lag_x = np.concatenate((lag_x, x[lag-i-2:-i-2].reshape(-1,1)),axis=1)\n",
    "        \n",
    "    return lag_x"
   ]
  },
  {
   "cell_type": "code",
   "execution_count": null,
   "id": "92c52947",
   "metadata": {
    "hidden": true
   },
   "outputs": [],
   "source": [
    "def evaluate_CI(x):\n",
    "    x_mean = np.mean(x)\n",
    "    x_std = np.std(x)\n",
    "    return [x_mean-1.96*x_std/np.sqrt(len(x)),x_mean+1.96*x_std/np.sqrt(len(x))]"
   ]
  },
  {
   "cell_type": "markdown",
   "id": "06055753",
   "metadata": {},
   "source": [
    "# Linear, 3 variables"
   ]
  },
  {
   "cell_type": "markdown",
   "id": "6248da5d",
   "metadata": {
    "heading_collapsed": true
   },
   "source": [
    "### Preliminaries"
   ]
  },
  {
   "cell_type": "code",
   "execution_count": null,
   "id": "aadc5454",
   "metadata": {
    "hidden": true
   },
   "outputs": [],
   "source": [
    "def generate_dataset_3dim(data_for_X0, c, d, n, seed=0, noise=0.1):\n",
    "    \n",
    "    data_for_X0 = pd.read_csv('../causalFS/data/sampleX0.csv')\n",
    "    \n",
    "    rng = np.random.default_rng(seed=seed)\n",
    "    random.seed(seed)\n",
    "    np.random.seed(seed)\n",
    "    \n",
    "    x0 = data_for_X0.iloc[:n+2].values\n",
    "    x0 +=  np.random.randn(len(x0),1) * noise\n",
    "    plt.plot(x0[2:],'g')\n",
    "    \n",
    "    y = list(np.zeros(n+2))\n",
    "    for i in range(n):\n",
    "        next_val = y[i]*c[0] + x0[i]*c[1] + np.random.randn() * noise\n",
    "        y[i+2] = next_val[0]\n",
    "    plt.plot(y[2:],'b')\n",
    "    \n",
    "    x1 = list(np.zeros(n+2))\n",
    "    for i in range(n):\n",
    "        next_val = y[i+1]*d + np.random.randn() * noise\n",
    "        x1[i+2] = next_val\n",
    "    plt.plot(x1[2:],'r')\n",
    "    plt.show()\n",
    "    \n",
    "    x0 = np.array(x0)[2:].reshape(-1,1)\n",
    "    x1 = np.array(x1)[2:].reshape(-1,1)\n",
    "    y = np.array(y)[2:].reshape(-1,1)\n",
    "    print(x0.shape, x1.shape, y.shape)\n",
    "\n",
    "    x = np.concatenate((x0,x1),axis=1)\n",
    "    \n",
    "    return x,y"
   ]
  },
  {
   "cell_type": "code",
   "execution_count": null,
   "id": "2a065ecb",
   "metadata": {
    "hidden": true
   },
   "outputs": [],
   "source": [
    "data_for_X0 = pd.read_csv('../causalFS/data/sampleX0.csv')\n",
    "plt.plot(data_for_X0.iloc[:300].values)"
   ]
  },
  {
   "cell_type": "code",
   "execution_count": null,
   "id": "c45bbbdc",
   "metadata": {
    "hidden": true
   },
   "outputs": [],
   "source": [
    "x,y = generate_dataset_3dim('', [0.75,-0.65], 0.7, 300, seed=0, noise=0.1)"
   ]
  },
  {
   "cell_type": "code",
   "execution_count": null,
   "id": "bd0a6f6a",
   "metadata": {
    "hidden": true
   },
   "outputs": [],
   "source": [
    "def compute_r2(inputs,y,tau=2,n=300):\n",
    "    features = concatenate_past(inputs[0],tau)\n",
    "    if len(inputs)>1:\n",
    "        for i in range(len(inputs)-1):\n",
    "            actual = concatenate_past(inputs[i+1],tau)\n",
    "            features = np.concatenate((actual,features),axis=1)\n",
    "\n",
    "    y_target = y[tau:]\n",
    "    \n",
    "    split = round(n*0.66)\n",
    "    \n",
    "    reg = LinearRegression().fit(features[:split,:], y_target[:split].reshape(-1,1))\n",
    "    score = reg.score(features[split:,:], y_target[split:].reshape(-1,1))\n",
    "    print(f'R2 score: {score}\\n')\n",
    "    \n",
    "    return score"
   ]
  },
  {
   "cell_type": "code",
   "execution_count": null,
   "id": "77ed379b",
   "metadata": {
    "hidden": true
   },
   "outputs": [],
   "source": []
  },
  {
   "cell_type": "code",
   "execution_count": null,
   "id": "2cd3c5f8",
   "metadata": {
    "hidden": true
   },
   "outputs": [],
   "source": [
    "def experiment_3dim_fixedCoeff(data_for_X0, c, d, n, noise=0.1, n_reps=10, tau=2):\n",
    "    correct_CMI_forw = 0\n",
    "    wrong_CMI_forw = 0\n",
    "    correct_CMI_back = 0\n",
    "    wrong_CMI_back = 0\n",
    "    correct_TE_forw = 0\n",
    "    wrong_TE_forw = 0\n",
    "    correct_TE_back = 0\n",
    "    wrong_TE_back = 0\n",
    "    correct_fullCI = 0\n",
    "    correct_PCMCI = 0\n",
    "    wrong_fullCI = 0\n",
    "    wrong_PCMCI = 0\n",
    "    \n",
    "    tot_links = 0\n",
    "    correct_links = set([0,2])\n",
    "    \n",
    "    res = {\n",
    "                \"delta\" : [], # list with all deltas\n",
    "                \"numSelected\" : [], #\n",
    "                \"selectedFeatures\" : [] \n",
    "            #    \"accuracy\" : [] # list of scores associated with the reduced problem\n",
    "            }\n",
    "    \n",
    "    for seed in range(n_reps):\n",
    "        \n",
    "        ### generate dataset\n",
    "        x,y = generate_dataset_3dim(data_for_X0=data_for_X0, c=c, d=d, n=n, seed=seed, noise=noise)\n",
    "        \n",
    "        k = round(n/15)\n",
    "        \n",
    "        sel = forwardFeatureSelection(threshold=100,features=x,target=y,res=res,k=k, nproc=1, tau=tau)\n",
    "        print(sel)\n",
    "        CMI_forw_sel = set(sel)\n",
    "        \n",
    "        sel = TE_forwardFeatureSelection(threshold=100,features=x,target=y,res=res,k=k, nproc=1, tau=tau)\n",
    "        print(sel)\n",
    "        TE_forw_sel = set(sel)\n",
    "        \n",
    "        sel = backwardFeatureSelection(threshold=0.000001,features=x,target=y,res=res,k=k, nproc=1, tau=tau)\n",
    "        print(sel)\n",
    "        CMI_back_sel = set(sel)\n",
    "    \n",
    "        sel = TE_backwardFeatureSelection(threshold=0.000001,features=x,target=y,res=res,k=k, nproc=1, tau=tau)\n",
    "        print(sel)\n",
    "        TE_back_sel = set(sel)\n",
    "        \n",
    "        p = run_fullCI(pd.DataFrame(np.concatenate((x,y),axis=1), columns = ['x0','x1','y']),tau=tau,cond_test=ParCorr())\n",
    "        sel = []\n",
    "        for i in [0,1,2]:\n",
    "            if min(p[i,2,:])<0.05:\n",
    "                sel.append(i)\n",
    "        full_CI_sel = set(sel)\n",
    "        print(full_CI_sel)\n",
    "        \n",
    "        p = run_PCMCI(pd.DataFrame(np.concatenate((x,y),axis=1), columns = ['x0','x1','y']),tau=tau,cond_test=ParCorr())\n",
    "        sel = []\n",
    "        for i in [0,1,2]:\n",
    "            if min(p[i,2,:])<0.05:\n",
    "                sel.append(i)\n",
    "        PCMCI_sel = set(sel)\n",
    "        print(PCMCI_sel)\n",
    "    \n",
    "        print('\\n\\n')\n",
    "        \n",
    "        correct_CMI_forw += len([found for found in CMI_forw_sel if found in correct_links])\n",
    "        wrong_CMI_forw += len(CMI_forw_sel) - len([found for found in CMI_forw_sel if found in correct_links])\n",
    "        correct_CMI_back += len([found for found in CMI_back_sel if found in correct_links])\n",
    "        wrong_CMI_back += len(CMI_back_sel) - len([found for found in CMI_back_sel if found in correct_links])\n",
    "        correct_TE_forw += len([found for found in TE_forw_sel if found in correct_links])\n",
    "        wrong_TE_forw += len(TE_forw_sel) - len([found for found in TE_forw_sel if found in correct_links])\n",
    "        correct_TE_back += len([found for found in TE_back_sel if found in correct_links])\n",
    "        wrong_TE_back += len(TE_back_sel) - len([found for found in TE_back_sel if found in correct_links])\n",
    "        correct_fullCI += len([found for found in full_CI_sel if found in correct_links])\n",
    "        wrong_fullCI += len(full_CI_sel) - len([found for found in full_CI_sel if found in correct_links])\n",
    "        correct_PCMCI += len([found for found in PCMCI_sel if found in correct_links])\n",
    "        wrong_PCMCI += len(PCMCI_sel) - len([found for found in PCMCI_sel if found in correct_links])\n",
    "        tot_links += len(correct_links)\n",
    "        \n",
    "        #compute_r2([x[:,0],x[:,1]],y,tau=2,n=300)\n",
    "    \n",
    "    corrects = [correct_CMI_forw, correct_CMI_back, correct_TE_forw, correct_TE_back,correct_fullCI,correct_PCMCI]\n",
    "    wrongs = [wrong_CMI_forw, wrong_CMI_back, wrong_TE_forw, wrong_TE_back, wrong_fullCI, wrong_PCMCI]\n",
    "    print(corrects)\n",
    "    print(wrongs)  \n",
    "    print(tot_links)\n",
    "\n",
    "    return corrects, wrongs, tot_links\n"
   ]
  },
  {
   "cell_type": "markdown",
   "id": "deac23ab",
   "metadata": {
    "heading_collapsed": true
   },
   "source": [
    "### single example"
   ]
  },
  {
   "cell_type": "code",
   "execution_count": null,
   "id": "7090c6d1",
   "metadata": {
    "hidden": true,
    "scrolled": true
   },
   "outputs": [],
   "source": [
    "corrects, wrongs, tot_links = experiment_3dim_fixedCoeff(data_for_X0, c=[0.75,-0.65], d=0.70, n=300, noise=0.1, n_reps=10, tau=2)\n",
    "\n"
   ]
  },
  {
   "cell_type": "code",
   "execution_count": null,
   "id": "47186b85",
   "metadata": {
    "hidden": true
   },
   "outputs": [],
   "source": [
    "corrects, wrongs, tot_links"
   ]
  },
  {
   "cell_type": "markdown",
   "id": "e7b60a55",
   "metadata": {
    "heading_collapsed": true
   },
   "source": [
    "### variable tau"
   ]
  },
  {
   "cell_type": "code",
   "execution_count": null,
   "id": "677e050d",
   "metadata": {
    "hidden": true,
    "scrolled": true
   },
   "outputs": [],
   "source": [
    "corrects=[]\n",
    "wrongs = [] \n",
    "tot_links = []\n",
    "for tau in [2,3,4,5]:\n",
    "    corr, wron, tot_li = experiment_3dim_fixedCoeff(data_for_X0, c=[0.75,-0.65], d=0.70, n=300, noise=0.1, n_reps=10, tau=tau)\n",
    "    corrects.append(corr)\n",
    "    wrongs.append(wron)\n",
    "    tot_links.append(tot_li)"
   ]
  },
  {
   "cell_type": "code",
   "execution_count": null,
   "id": "ca09bb34",
   "metadata": {
    "hidden": true
   },
   "outputs": [],
   "source": [
    "corrects"
   ]
  },
  {
   "cell_type": "code",
   "execution_count": null,
   "id": "58655ee5",
   "metadata": {
    "hidden": true
   },
   "outputs": [],
   "source": [
    "wrongs"
   ]
  },
  {
   "cell_type": "code",
   "execution_count": null,
   "id": "c77c39c1",
   "metadata": {
    "hidden": true
   },
   "outputs": [],
   "source": [
    "tot_links"
   ]
  },
  {
   "cell_type": "markdown",
   "id": "af232543",
   "metadata": {
    "heading_collapsed": true
   },
   "source": [
    "### increasing noise"
   ]
  },
  {
   "cell_type": "code",
   "execution_count": null,
   "id": "631862f2",
   "metadata": {
    "hidden": true,
    "scrolled": true
   },
   "outputs": [],
   "source": [
    "corrects=[]\n",
    "wrongs = [] \n",
    "tot_links = []\n",
    "for noise in [0.1,0.3,0.5,0.7,0.9]:\n",
    "    corr, wron, tot_li = experiment_3dim_fixedCoeff(data_for_X0, c=[0.75,-0.65], d=0.70, n=300, noise=noise, n_reps=10, tau=2)\n",
    "    corrects.append(corr)\n",
    "    wrongs.append(wron)\n",
    "    tot_links.append(tot_li)\n"
   ]
  },
  {
   "cell_type": "code",
   "execution_count": null,
   "id": "a03bfcbf",
   "metadata": {
    "hidden": true
   },
   "outputs": [],
   "source": [
    "corrects"
   ]
  },
  {
   "cell_type": "code",
   "execution_count": null,
   "id": "545cc260",
   "metadata": {
    "hidden": true
   },
   "outputs": [],
   "source": [
    "wrongs"
   ]
  },
  {
   "cell_type": "code",
   "execution_count": null,
   "id": "2a0d650a",
   "metadata": {
    "hidden": true
   },
   "outputs": [],
   "source": [
    "tot_links"
   ]
  },
  {
   "cell_type": "markdown",
   "id": "100848fa",
   "metadata": {
    "heading_collapsed": true
   },
   "source": [
    "### variable number of samples"
   ]
  },
  {
   "cell_type": "code",
   "execution_count": null,
   "id": "4e45425b",
   "metadata": {
    "hidden": true,
    "scrolled": true
   },
   "outputs": [],
   "source": [
    "corrects=[]\n",
    "wrongs = [] \n",
    "tot_links = []\n",
    "for n in [100,200,300,400,500]:\n",
    "    corr, wron, tot_li = experiment_3dim_fixedCoeff(data_for_X0, c=[0.75,-0.65], d=0.70, n=n, noise=0.1, n_reps=10, tau=2)\n",
    "    corrects.append(corr)\n",
    "    wrongs.append(wron)\n",
    "    tot_links.append(tot_li)\n"
   ]
  },
  {
   "cell_type": "code",
   "execution_count": null,
   "id": "7933c508",
   "metadata": {
    "hidden": true
   },
   "outputs": [],
   "source": [
    "corrects"
   ]
  },
  {
   "cell_type": "code",
   "execution_count": null,
   "id": "cdc60ecb",
   "metadata": {
    "hidden": true
   },
   "outputs": [],
   "source": [
    "wrongs"
   ]
  },
  {
   "cell_type": "code",
   "execution_count": null,
   "id": "f454afc8",
   "metadata": {
    "hidden": true
   },
   "outputs": [],
   "source": [
    "tot_links"
   ]
  },
  {
   "cell_type": "markdown",
   "id": "52b5e320",
   "metadata": {
    "heading_collapsed": true
   },
   "source": [
    "### variable coefficients"
   ]
  },
  {
   "cell_type": "code",
   "execution_count": null,
   "id": "59b7dbf4",
   "metadata": {
    "hidden": true
   },
   "outputs": [],
   "source": [
    "rng = np.random.default_rng(seed=0)\n",
    "random.seed(0)\n",
    "np.random.seed(0)\n",
    "cc = []\n",
    "dd = []\n",
    "while len(cc)<6:\n",
    "    comb = [rng.uniform(-1,1),rng.uniform(-1,1)]\n",
    "    if (((comb[0]<=-0.5) | (comb[0]>=0.5)) & ((comb[1]<=-0.5) | (comb[1]>=0.5))):\n",
    "        cc.append(comb)\n",
    "        \n",
    "while len(dd)<6:\n",
    "    val = rng.uniform(-1,1)\n",
    "    if (((val<=-0.5) | (val>=0.5))):\n",
    "        dd.append(val)\n",
    "    \n",
    "print(cc,dd)"
   ]
  },
  {
   "cell_type": "code",
   "execution_count": null,
   "id": "80aecb7f",
   "metadata": {
    "hidden": true,
    "scrolled": true
   },
   "outputs": [],
   "source": [
    "corrects=[]\n",
    "wrongs = [] \n",
    "tot_links = []\n",
    "\n",
    "for i in range(11):\n",
    "    corr, wron, tot_li = experiment_3dim_fixedCoeff('', c=cc[i], d=dd[i], n=300, noise=0.1, n_reps=10, tau=2)\n",
    "    corrects.append(corr)\n",
    "    wrongs.append(wron)\n",
    "    tot_links.append(tot_li)\n"
   ]
  },
  {
   "cell_type": "code",
   "execution_count": null,
   "id": "0f1e4a27",
   "metadata": {
    "hidden": true,
    "scrolled": true
   },
   "outputs": [],
   "source": [
    "corrects"
   ]
  },
  {
   "cell_type": "code",
   "execution_count": null,
   "id": "c3068753",
   "metadata": {
    "hidden": true
   },
   "outputs": [],
   "source": [
    "wrongs"
   ]
  },
  {
   "cell_type": "code",
   "execution_count": null,
   "id": "f118d013",
   "metadata": {
    "hidden": true
   },
   "outputs": [],
   "source": [
    "tot_links"
   ]
  },
  {
   "cell_type": "markdown",
   "id": "cb9dae0a",
   "metadata": {
    "heading_collapsed": true
   },
   "source": [
    "# Same, 5 variables"
   ]
  },
  {
   "cell_type": "markdown",
   "id": "a7b7d27a",
   "metadata": {
    "heading_collapsed": true,
    "hidden": true
   },
   "source": [
    "### Preliminaries"
   ]
  },
  {
   "cell_type": "code",
   "execution_count": null,
   "id": "089d7f92",
   "metadata": {
    "hidden": true
   },
   "outputs": [],
   "source": [
    "def experiment_5dim_fixedCoeff(data_for_X1, data_for_X3, a, b, c, n, noise=0.1, n_reps=10, tau=2, tau2=2):\n",
    "    correct_CMI_forw = 0\n",
    "    wrong_CMI_forw = 0\n",
    "    correct_CMI_back = 0\n",
    "    wrong_CMI_back = 0\n",
    "    correct_TE_forw = 0\n",
    "    wrong_TE_forw = 0\n",
    "    correct_TE_back = 0\n",
    "    wrong_TE_back = 0\n",
    "    correct_fullCI = 0\n",
    "    correct_PCMCI = 0\n",
    "    wrong_fullCI = 0\n",
    "    wrong_PCMCI = 0\n",
    "    \n",
    "    tot_links = 0\n",
    "    correct_links = set([0,1,4])\n",
    "    \n",
    "    res = {\n",
    "                \"delta\" : [], # list with all deltas\n",
    "                \"numSelected\" : [], #\n",
    "                \"selectedFeatures\" : [] \n",
    "            #    \"accuracy\" : [] # list of scores associated with the reduced problem\n",
    "            }\n",
    "    \n",
    "    for seed in range(n_reps):\n",
    "        \n",
    "        ### generate dataset\n",
    "        x,y = generate_dataset_5dim(data_for_X1=data_for_X1, data_for_X3=data_for_X3, a=a, b=b, c=c, n=n, seed=seed, noise=noise)\n",
    "        \n",
    "        k = round(n/15)\n",
    "        \n",
    "        sel = forwardFeatureSelection(threshold=100,features=x,target=y,res=res,k=k, nproc=1, tau=tau)\n",
    "        print(sel)\n",
    "        CMI_forw_sel = set(sel)\n",
    "        \n",
    "        sel = TE_forwardFeatureSelection(threshold=100,features=x,target=y,res=res,k=k, nproc=1, tau=tau, tau2=tau2)\n",
    "        print(sel)\n",
    "        TE_forw_sel = set(sel)\n",
    "        \n",
    "        sel = backwardFeatureSelection(threshold=0.000001,features=x,target=y,res=res,k=k, nproc=1, tau=tau)\n",
    "        print(sel)\n",
    "        CMI_back_sel = set(sel)\n",
    "    \n",
    "        sel = TE_backwardFeatureSelection(threshold=0.000001,features=x,target=y,res=res,k=k, nproc=1, tau=tau, tau2=tau2)\n",
    "        print(sel)\n",
    "        TE_back_sel = set(sel)\n",
    "        \n",
    "        p = run_fullCI(pd.DataFrame(np.concatenate((x,y),axis=1), columns = ['x0','x1','x2','x3','y']),tau=tau,cond_test=ParCorr())\n",
    "        sel = []\n",
    "        for i in [0,1,2,3,4]:\n",
    "            if min(p[i,4,:])<0.05:\n",
    "                sel.append(i)\n",
    "        full_CI_sel = set(sel)\n",
    "        print(full_CI_sel)\n",
    "        \n",
    "        p = run_PCMCI(pd.DataFrame(np.concatenate((x,y),axis=1), columns = ['x0','x1','x2','x3','y']),tau=tau,cond_test=ParCorr())\n",
    "        sel = []\n",
    "        for i in [0,1,2,3,4]:\n",
    "            if min(p[i,4,:])<0.05:\n",
    "                sel.append(i)\n",
    "        PCMCI_sel = set(sel)\n",
    "        print(PCMCI_sel)\n",
    "        \n",
    "        print('\\n\\n')\n",
    "        \n",
    "        correct_CMI_forw += len([found for found in CMI_forw_sel if found in correct_links])\n",
    "        wrong_CMI_forw += len(CMI_forw_sel) - len([found for found in CMI_forw_sel if found in correct_links])\n",
    "        correct_CMI_back += len([found for found in CMI_back_sel if found in correct_links])\n",
    "        wrong_CMI_back += len(CMI_back_sel) - len([found for found in CMI_back_sel if found in correct_links])\n",
    "        correct_TE_forw += len([found for found in TE_forw_sel if found in correct_links])\n",
    "        wrong_TE_forw += len(TE_forw_sel) - len([found for found in TE_forw_sel if found in correct_links])\n",
    "        correct_TE_back += len([found for found in TE_back_sel if found in correct_links])\n",
    "        wrong_TE_back += len(TE_back_sel) - len([found for found in TE_back_sel if found in correct_links])\n",
    "        correct_fullCI += len([found for found in full_CI_sel if found in correct_links])\n",
    "        wrong_fullCI += len(full_CI_sel) - len([found for found in full_CI_sel if found in correct_links])\n",
    "        correct_PCMCI += len([found for found in PCMCI_sel if found in correct_links])\n",
    "        wrong_PCMCI += len(PCMCI_sel) - len([found for found in PCMCI_sel if found in correct_links])\n",
    "        tot_links += len(correct_links)\n",
    "        \n",
    "        #compute_r2([x[:,0],x[:,1]],y,tau=2,n=300)\n",
    "    \n",
    "    corrects = [correct_CMI_forw, correct_CMI_back, correct_TE_forw, correct_TE_back,correct_fullCI,correct_PCMCI]\n",
    "    wrongs = [wrong_CMI_forw, wrong_CMI_back, wrong_TE_forw, wrong_TE_back, wrong_fullCI, wrong_PCMCI]\n",
    "    print(corrects)\n",
    "    print(wrongs)  \n",
    "    print(tot_links)\n",
    "\n",
    "    return corrects, wrongs, tot_links\n"
   ]
  },
  {
   "cell_type": "code",
   "execution_count": null,
   "id": "11320a88",
   "metadata": {
    "hidden": true
   },
   "outputs": [],
   "source": [
    "def generate_dataset_5dim(data_for_X1, data_for_X3, a, b, c, n, seed, noise):\n",
    "    \n",
    "    data_for_X1 = pd.read_csv('../causalFS/data/sampleX0.csv')\n",
    "    data_for_X3 = pd.read_csv('../causalFS/data/sampleX1.csv')\n",
    "    rng = np.random.default_rng(seed=seed)\n",
    "    random.seed(seed)\n",
    "    np.random.seed(seed)\n",
    "    \n",
    "    x1 = data_for_X1.iloc[:n+2].values\n",
    "    x1 +=  np.random.randn(len(x1),1) * noise\n",
    "    plt.plot(x1[2:],'g')\n",
    "    \n",
    "    x3 = data_for_X3.iloc[:n+2].values\n",
    "    x3 +=  np.random.randn(len(x3),1) * noise\n",
    "    plt.plot(x3[2:],'y')\n",
    "    \n",
    "    x0 = list(np.zeros(n+2))\n",
    "    for i in range(n):\n",
    "        next_val = x3[i+1]*a + np.random.randn() * noise\n",
    "        x0[i+2] = next_val[0] \n",
    "    plt.plot(x0[2:],'r')\n",
    "    \n",
    "    y = list(np.zeros(n+2))\n",
    "    for i in range(n):\n",
    "        next_val = y[i]*c[0] + x0[i+1]*c[1] + x1[i]*c[2] + np.random.randn() * noise\n",
    "        y[i+2] = next_val[0] \n",
    "    plt.plot(y[2:],'b')\n",
    "    \n",
    "    x2 = list(np.zeros(n+2))\n",
    "    for i in range(n):\n",
    "        next_val = y[i+1]*b + np.random.randn() * noise\n",
    "        x2[i+2] = next_val\n",
    "    plt.plot(x2[2:],'brown')\n",
    "    plt.show()\n",
    "    \n",
    "    x0 = np.array(x0)[2:].reshape(-1,1)\n",
    "    x1 = np.array(x1)[2:].reshape(-1,1)\n",
    "    x2 = np.array(x2)[2:].reshape(-1,1)\n",
    "    x3 = np.array(x3)[2:].reshape(-1,1)\n",
    "    y = np.array(y)[2:].reshape(-1,1)\n",
    "    print(x0.shape, x1.shape,x2.shape, x3.shape, y.shape)\n",
    "\n",
    "    x = np.concatenate((x0,x1,x2,x3),axis=1)\n",
    "    \n",
    "    return x,y\n",
    "\n"
   ]
  },
  {
   "cell_type": "markdown",
   "id": "e5f53f97",
   "metadata": {
    "heading_collapsed": true,
    "hidden": true
   },
   "source": [
    "### single example"
   ]
  },
  {
   "cell_type": "code",
   "execution_count": null,
   "id": "1f6564ea",
   "metadata": {
    "hidden": true,
    "scrolled": true
   },
   "outputs": [],
   "source": [
    "corrects,wrongs,tot_links = experiment_5dim_fixedCoeff(data_for_X1='', data_for_X3='', a=0.62, b=-0.85, c=[-0.97,0.63,0.83], n=300, noise=0.1, n_reps=10, tau=2)\n"
   ]
  },
  {
   "cell_type": "code",
   "execution_count": null,
   "id": "eb25ea2d",
   "metadata": {
    "hidden": true
   },
   "outputs": [],
   "source": [
    "corrects"
   ]
  },
  {
   "cell_type": "code",
   "execution_count": null,
   "id": "767f19ac",
   "metadata": {
    "hidden": true
   },
   "outputs": [],
   "source": [
    "wrongs"
   ]
  },
  {
   "cell_type": "code",
   "execution_count": null,
   "id": "5e992774",
   "metadata": {
    "hidden": true
   },
   "outputs": [],
   "source": [
    "tot_links"
   ]
  },
  {
   "cell_type": "markdown",
   "id": "527695f0",
   "metadata": {
    "heading_collapsed": true,
    "hidden": true
   },
   "source": [
    "### increasing noise"
   ]
  },
  {
   "cell_type": "code",
   "execution_count": null,
   "id": "2997e8d9",
   "metadata": {
    "hidden": true,
    "scrolled": true
   },
   "outputs": [],
   "source": [
    "\n",
    "corrects=[]\n",
    "wrongs = []\n",
    "tot_links = []\n",
    "for noise in [0.01,0.05,0.1,0.15,0.2]:\n",
    "    corr, wron, tot_li = experiment_5dim_fixedCoeff(data_for_X1='', data_for_X3='', a=0.62, b=-0.85, c=[-0.97,0.63,0.83], n=300, noise=noise, n_reps=10, tau=2)\n",
    "    corrects.append(corr)\n",
    "    wrongs.append(wron)\n",
    "    tot_links.append(tot_li)\n"
   ]
  },
  {
   "cell_type": "code",
   "execution_count": null,
   "id": "973bc2e6",
   "metadata": {
    "hidden": true
   },
   "outputs": [],
   "source": [
    "corrects"
   ]
  },
  {
   "cell_type": "code",
   "execution_count": null,
   "id": "5e9bb883",
   "metadata": {
    "hidden": true
   },
   "outputs": [],
   "source": [
    "wrongs"
   ]
  },
  {
   "cell_type": "code",
   "execution_count": null,
   "id": "83d9b95c",
   "metadata": {
    "hidden": true
   },
   "outputs": [],
   "source": [
    "tot_links"
   ]
  },
  {
   "cell_type": "markdown",
   "id": "705edaf2",
   "metadata": {
    "heading_collapsed": true,
    "hidden": true
   },
   "source": [
    "### variable number of samples"
   ]
  },
  {
   "cell_type": "code",
   "execution_count": null,
   "id": "843b9a8d",
   "metadata": {
    "hidden": true
   },
   "outputs": [],
   "source": [
    "corrects=[]\n",
    "wrongs = [] \n",
    "tot_links = []\n",
    "for n in [100,200,300,400,500]:\n",
    "    corr, wron, tot_li = experiment_5dim_fixedCoeff(data_for_X1='', data_for_X3='', a=0.62, b=-0.85, c=[-0.97,0.63,0.83], n=n, noise=0.1, n_reps=10, tau=2)\n",
    "    corrects.append(corr)\n",
    "    wrongs.append(wron)\n",
    "    tot_links.append(tot_li)\n"
   ]
  },
  {
   "cell_type": "code",
   "execution_count": null,
   "id": "3fae7e59",
   "metadata": {
    "hidden": true
   },
   "outputs": [],
   "source": [
    "corrects"
   ]
  },
  {
   "cell_type": "code",
   "execution_count": null,
   "id": "9ca4f51d",
   "metadata": {
    "hidden": true
   },
   "outputs": [],
   "source": [
    "wrongs"
   ]
  },
  {
   "cell_type": "code",
   "execution_count": null,
   "id": "ef788baa",
   "metadata": {
    "hidden": true
   },
   "outputs": [],
   "source": [
    "tot_links"
   ]
  },
  {
   "cell_type": "markdown",
   "id": "216a3b4e",
   "metadata": {
    "heading_collapsed": true,
    "hidden": true
   },
   "source": [
    "### variable coefficients"
   ]
  },
  {
   "cell_type": "code",
   "execution_count": null,
   "id": "d7012f6d",
   "metadata": {
    "hidden": true
   },
   "outputs": [],
   "source": [
    "rng = np.random.default_rng(seed=0)\n",
    "random.seed(0)\n",
    "np.random.seed(0)\n",
    "cc = []\n",
    "aa = []\n",
    "bb = []\n",
    "while len(cc)<15:\n",
    "    comb = [rng.uniform(-1,1),rng.uniform(-1,1),rng.uniform(-1,1)]\n",
    "    if (((comb[0]<=-0.5) | (comb[0]>=0.5)) & ((comb[1]<=-0.5) | (comb[1]>=0.5)) & ((comb[2]<=-0.5) | (comb[2]>=0.5))):\n",
    "        cc.append(comb)\n",
    "        \n",
    "while len(aa)<15:\n",
    "    val = rng.uniform(-1,1)\n",
    "    if (((val<=-0.5) | (val>=0.5))):\n",
    "        aa.append(val)\n",
    "        \n",
    "while len(bb)<15:\n",
    "    val = rng.uniform(-1,1)\n",
    "    if (((val<=-0.5) | (val>=0.5))):\n",
    "        bb.append(val)\n",
    "    \n",
    "print(aa,bb,cc)\n",
    "\n"
   ]
  },
  {
   "cell_type": "code",
   "execution_count": null,
   "id": "38b1e9c8",
   "metadata": {
    "hidden": true
   },
   "outputs": [],
   "source": [
    "corrects=[]\n",
    "wrongs = [] \n",
    "tot_links = []\n",
    "\n",
    "for i in [0,3,6,9,12]:\n",
    "    corr, wron, tot_li = experiment_5dim_fixedCoeff(data_for_X1='', data_for_X3='', a=aa[i], b=bb[i], c=cc[i], n=300, noise=0.1, n_reps=10, tau=2)\n",
    "\n",
    "    corrects.append(corr)\n",
    "    wrongs.append(wron)\n",
    "    tot_links.append(tot_li)"
   ]
  },
  {
   "cell_type": "code",
   "execution_count": null,
   "id": "f7a53174",
   "metadata": {
    "hidden": true
   },
   "outputs": [],
   "source": [
    "corrects"
   ]
  },
  {
   "cell_type": "code",
   "execution_count": null,
   "id": "1b02f8df",
   "metadata": {
    "hidden": true
   },
   "outputs": [],
   "source": [
    "wrongs"
   ]
  },
  {
   "cell_type": "code",
   "execution_count": null,
   "id": "1e027be1",
   "metadata": {
    "hidden": true
   },
   "outputs": [],
   "source": [
    "tot_links"
   ]
  },
  {
   "cell_type": "markdown",
   "id": "645706bf",
   "metadata": {
    "heading_collapsed": true,
    "hidden": true
   },
   "source": [
    "### variable tau"
   ]
  },
  {
   "cell_type": "code",
   "execution_count": null,
   "id": "ed78108f",
   "metadata": {
    "hidden": true
   },
   "outputs": [],
   "source": [
    "corrects=[]\n",
    "wrongs = [] \n",
    "tot_links = []\n",
    "for tau in [2,3,4,5]:\n",
    "    corr, wron, tot_li = experiment_5dim_fixedCoeff(data_for_X1='', data_for_X3='', a=0.62, b=-0.85, c=[-0.97,0.63,0.83], n=300, noise=0.01, n_reps=10, tau=tau)\n",
    "    corrects.append(corr)\n",
    "    wrongs.append(wron)\n",
    "    tot_links.append(tot_li)"
   ]
  },
  {
   "cell_type": "code",
   "execution_count": null,
   "id": "090dc587",
   "metadata": {
    "hidden": true
   },
   "outputs": [],
   "source": [
    "corrects"
   ]
  },
  {
   "cell_type": "code",
   "execution_count": null,
   "id": "63ecb833",
   "metadata": {
    "hidden": true
   },
   "outputs": [],
   "source": [
    "wrongs"
   ]
  },
  {
   "cell_type": "code",
   "execution_count": null,
   "id": "ab73855b",
   "metadata": {
    "hidden": true
   },
   "outputs": [],
   "source": [
    "tot_links"
   ]
  },
  {
   "cell_type": "markdown",
   "id": "55e3f2e9",
   "metadata": {},
   "source": [
    "# Same, 10 variables"
   ]
  },
  {
   "cell_type": "markdown",
   "id": "3e81fe11",
   "metadata": {
    "heading_collapsed": true
   },
   "source": [
    "### Preliminaries"
   ]
  },
  {
   "cell_type": "code",
   "execution_count": null,
   "id": "e60da6ce",
   "metadata": {
    "hidden": true
   },
   "outputs": [],
   "source": [
    "def generate_dataset_10dim(k, n, seed, noise):\n",
    "    \n",
    "    data_for_X0 = pd.read_csv('../causalFS/data/sampleX0.csv')\n",
    "    data_for_X5 = pd.read_csv('../causalFS/data/sampleX2.csv')\n",
    "    data_for_X7 = pd.read_csv('../causalFS/data/sampleX3.csv')\n",
    "\n",
    "    rng = np.random.default_rng(seed=seed)\n",
    "    random.seed(seed)\n",
    "    np.random.seed(seed)\n",
    "    \n",
    "    ############## independent variables: x0,x5,x7 #################\n",
    "    ### X0\n",
    "    x0 = data_for_X0.iloc[:n+3].values\n",
    "    x0 +=  np.random.randn(len(x0),1) * noise\n",
    "    plt.plot(x0[3:],'r')\n",
    "    \n",
    "    ### X5\n",
    "    x5 = data_for_X5.iloc[:n+3].values\n",
    "    x5 +=  np.random.randn(len(x5),1) * noise\n",
    "    plt.plot(x5[3:],'g')\n",
    "    \n",
    "    ### X7\n",
    "    x7 = data_for_X7.iloc[:n+3].values\n",
    "    x7 +=  np.random.randn(len(x7),1) * noise\n",
    "    plt.plot(x7[3:],'b')\n",
    "    plt.show()\n",
    "    \n",
    "    ############## first order dependence: x4,x8 #################\n",
    "    \n",
    "    x4 = list(np.zeros(n+3))\n",
    "    for i in range(n):\n",
    "        next_val = x0[i+2]*k[0] + np.random.randn() * noise\n",
    "        x4[i+3] = next_val[0] \n",
    "    plt.plot(x4[3:],'r')\n",
    "    \n",
    "    x8 = list(np.zeros(n+3))\n",
    "    for i in range(n):\n",
    "        next_val = x7[i+2]*k[1] + np.random.randn() * noise\n",
    "        x8[i+3] = next_val[0] \n",
    "    plt.plot(x8[3:],'g')\n",
    "    plt.show()\n",
    "    \n",
    "    ############## second order dependence: x3,y #################\n",
    "    \n",
    "    x3 = list(np.zeros(n+3))\n",
    "    for i in range(n):\n",
    "        next_val = x0[i+1]*k[2] + x3[i+2]*k[3] + np.random.randn() * noise\n",
    "        x3[i+3] = next_val[0]\n",
    "    plt.plot(x3[3:],'r')\n",
    "    \n",
    "    y = list(np.zeros(n+3))\n",
    "    for i in range(n):\n",
    "        next_val = y[i+1]*k[6] + x5[i]*k[5] + x8[i+2]*k[4] + np.random.randn() * noise\n",
    "        y[i+3] = next_val[0] \n",
    "    plt.plot(y[3:],'b')\n",
    "    plt.show()\n",
    "    \n",
    "    ############## third order dependence: x3,y #################\n",
    "    \n",
    "    x6 = list(np.zeros(n+3))\n",
    "    for i in range(n):\n",
    "        next_val = y[i+2]*k[7] + np.random.randn() * noise\n",
    "        x6[i+3] = next_val\n",
    "    plt.plot(x6[3:],'r')\n",
    "    \n",
    "    x1 = list(np.zeros(n+3))\n",
    "    for i in range(n):\n",
    "        next_val = y[i+1]*k[8] + np.random.randn() * noise\n",
    "        x1[i+3] = next_val\n",
    "    plt.plot(x1[3:],'g')\n",
    "    \n",
    "    x2 = list(np.zeros(n+3))\n",
    "    for i in range(n):\n",
    "        next_val = y[i+2]*k[9] + np.random.randn() * noise\n",
    "        x2[i+3] = next_val\n",
    "    plt.plot(x2[3:],'b')\n",
    "    plt.show()\n",
    "    \n",
    "    x0 = np.array(x0)[3:].reshape(-1,1)\n",
    "    x1 = np.array(x1)[3:].reshape(-1,1)\n",
    "    x2 = np.array(x2)[3:].reshape(-1,1)\n",
    "    x3 = np.array(x3)[3:].reshape(-1,1)\n",
    "    x4 = np.array(x4)[3:].reshape(-1,1)\n",
    "    x5 = np.array(x5)[3:].reshape(-1,1)\n",
    "    x6 = np.array(x6)[3:].reshape(-1,1)\n",
    "    x7 = np.array(x7)[3:].reshape(-1,1)\n",
    "    x8 = np.array(x8)[3:].reshape(-1,1)\n",
    "    y = np.array(y)[3:].reshape(-1,1)\n",
    "    print(x0.shape, x1.shape,x2.shape, x3.shape, x4.shape, x5.shape, x6.shape, x7.shape, x8.shape, y.shape)\n",
    "\n",
    "    x = np.concatenate((x0,x1,x2,x3,x4,x5,x6,x7,x8),axis=1)\n",
    "    \n",
    "    return x,y\n",
    "\n"
   ]
  },
  {
   "cell_type": "code",
   "execution_count": null,
   "id": "17f6b898",
   "metadata": {
    "hidden": true
   },
   "outputs": [],
   "source": [
    "def experiment_10dim_fixedCoeff(coeff, n, noise=0.1, n_reps=10, tau=3, tau2=3):\n",
    "    correct_CMI_forw = 0\n",
    "    wrong_CMI_forw = 0\n",
    "    correct_CMI_back = 0\n",
    "    wrong_CMI_back = 0\n",
    "    correct_TE_forw = 0\n",
    "    wrong_TE_forw = 0\n",
    "    correct_TE_back = 0\n",
    "    wrong_TE_back = 0\n",
    "    correct_fullCI = 0\n",
    "    correct_PCMCI = 0\n",
    "    wrong_fullCI = 0\n",
    "    wrong_PCMCI = 0\n",
    "    \n",
    "    tot_links = 0\n",
    "    correct_links = set([5,8,9])\n",
    "    \n",
    "    res = {\n",
    "                \"delta\" : [], # list with all deltas\n",
    "                \"numSelected\" : [], #\n",
    "                \"selectedFeatures\" : [] \n",
    "            #    \"accuracy\" : [] # list of scores associated with the reduced problem\n",
    "            }\n",
    "    \n",
    "    for seed in range(n_reps):\n",
    "        \n",
    "        ### generate dataset\n",
    "        x,y = generate_dataset_10dim(coeff, n, seed, noise)\n",
    "        \n",
    "        k = round(n/15)\n",
    "        \n",
    "        sel = forwardFeatureSelection(threshold=100,features=x,target=y,res=res,k=k, nproc=1, tau=tau)\n",
    "        print(sel)\n",
    "        CMI_forw_sel = set(sel)\n",
    "        \n",
    "        sel = TE_forwardFeatureSelection(threshold=100,features=x,target=y,res=res,k=k, nproc=1, tau=tau, tau2=tau2)\n",
    "        print(sel)\n",
    "        TE_forw_sel = set(sel)\n",
    "        \n",
    "        sel = backwardFeatureSelection(threshold=0.000001,features=x,target=y,res=res,k=k, nproc=1, tau=tau)\n",
    "        print(sel)\n",
    "        CMI_back_sel = set(sel)\n",
    "    \n",
    "        sel = TE_backwardFeatureSelection(threshold=0.000001,features=x,target=y,res=res,k=k, nproc=1, tau=tau, tau2=tau2)\n",
    "        print(sel)\n",
    "        TE_back_sel = set(sel)\n",
    "        \n",
    "        p = run_fullCI(pd.DataFrame(np.concatenate((x,y),axis=1), columns = ['x0','x1','x2','x3','x4','x5','x6','x7','x8','y']),tau=tau,cond_test=ParCorr())\n",
    "        sel = []\n",
    "        for i in [0,1,2,3,4,5,6,7,8,9]:\n",
    "            if min(p[i,9,:])<0.05:\n",
    "                sel.append(i)\n",
    "        full_CI_sel = set(sel)\n",
    "        print(full_CI_sel)\n",
    "        \n",
    "        p = run_PCMCI(pd.DataFrame(np.concatenate((x,y),axis=1), columns = ['x0','x1','x2','x3','x4','x5','x6','x7','x8','y']),tau=tau,cond_test=ParCorr())\n",
    "        sel = []\n",
    "        for i in [0,1,2,3,4,5,6,7,8,9]:\n",
    "            if min(p[i,9,:])<0.05:\n",
    "                sel.append(i)\n",
    "        PCMCI_sel = set(sel)\n",
    "        print(PCMCI_sel)\n",
    "        \n",
    "        print('\\n\\n')\n",
    "        \n",
    "        correct_CMI_forw += len([found for found in CMI_forw_sel if found in correct_links])\n",
    "        wrong_CMI_forw += len(CMI_forw_sel) - len([found for found in CMI_forw_sel if found in correct_links])\n",
    "        correct_CMI_back += len([found for found in CMI_back_sel if found in correct_links])\n",
    "        wrong_CMI_back += len(CMI_back_sel) - len([found for found in CMI_back_sel if found in correct_links])\n",
    "        correct_TE_forw += len([found for found in TE_forw_sel if found in correct_links])\n",
    "        wrong_TE_forw += len(TE_forw_sel) - len([found for found in TE_forw_sel if found in correct_links])\n",
    "        correct_TE_back += len([found for found in TE_back_sel if found in correct_links])\n",
    "        wrong_TE_back += len(TE_back_sel) - len([found for found in TE_back_sel if found in correct_links])\n",
    "        correct_fullCI += len([found for found in full_CI_sel if found in correct_links])\n",
    "        wrong_fullCI += len(full_CI_sel) - len([found for found in full_CI_sel if found in correct_links])\n",
    "        correct_PCMCI += len([found for found in PCMCI_sel if found in correct_links])\n",
    "        wrong_PCMCI += len(PCMCI_sel) - len([found for found in PCMCI_sel if found in correct_links])\n",
    "        tot_links += len(correct_links)\n",
    "        \n",
    "        #compute_r2([x[:,0],x[:,1]],y,tau=2,n=300)\n",
    "    \n",
    "    corrects = [correct_CMI_forw, correct_CMI_back, correct_TE_forw, correct_TE_back,correct_fullCI,correct_PCMCI]\n",
    "    wrongs = [wrong_CMI_forw, wrong_CMI_back, wrong_TE_forw, wrong_TE_back, wrong_fullCI, wrong_PCMCI]\n",
    "    print(corrects)\n",
    "    print(wrongs)  \n",
    "    print(tot_links)\n",
    "\n",
    "    return corrects, wrongs, tot_links\n"
   ]
  },
  {
   "cell_type": "markdown",
   "id": "eda51e2e",
   "metadata": {
    "heading_collapsed": true
   },
   "source": [
    "### single experiment"
   ]
  },
  {
   "cell_type": "code",
   "execution_count": null,
   "id": "e68400f5",
   "metadata": {
    "hidden": true
   },
   "outputs": [],
   "source": [
    "corrects, wrongs, tot_links = experiment_10dim_fixedCoeff(coeffs[2], n=300, noise=0.1, n_reps=10, tau=3, tau2=3)"
   ]
  },
  {
   "cell_type": "code",
   "execution_count": null,
   "id": "993fd09d",
   "metadata": {
    "hidden": true
   },
   "outputs": [],
   "source": [
    "corrects"
   ]
  },
  {
   "cell_type": "code",
   "execution_count": null,
   "id": "d13a2ac9",
   "metadata": {
    "hidden": true
   },
   "outputs": [],
   "source": [
    "wrongs"
   ]
  },
  {
   "cell_type": "markdown",
   "id": "791f4e50",
   "metadata": {
    "heading_collapsed": true
   },
   "source": [
    "### increasing noise"
   ]
  },
  {
   "cell_type": "code",
   "execution_count": null,
   "id": "d2de7dff",
   "metadata": {
    "hidden": true
   },
   "outputs": [],
   "source": [
    "corrects=[]\n",
    "wrongs = []\n",
    "tot_links = []\n",
    "for noise in [0.01,0.05,0.1,0.15,0.2]:\n",
    "    corr, wron, tot_li = experiment_10dim_fixedCoeff(coeffs[2], n=300, noise=noise, n_reps=10, tau=3, tau2=3)\n",
    "    corrects.append(corr)\n",
    "    wrongs.append(wron)\n",
    "    tot_links.append(tot_li)\n"
   ]
  },
  {
   "cell_type": "code",
   "execution_count": null,
   "id": "d56de4f5",
   "metadata": {
    "hidden": true
   },
   "outputs": [],
   "source": [
    "corrects"
   ]
  },
  {
   "cell_type": "code",
   "execution_count": null,
   "id": "ee46ee14",
   "metadata": {
    "hidden": true
   },
   "outputs": [],
   "source": [
    "wrongs"
   ]
  },
  {
   "cell_type": "code",
   "execution_count": null,
   "id": "727f4d73",
   "metadata": {
    "hidden": true
   },
   "outputs": [],
   "source": [
    "tot_links"
   ]
  },
  {
   "cell_type": "markdown",
   "id": "83021570",
   "metadata": {
    "heading_collapsed": true
   },
   "source": [
    "### variable number of samples"
   ]
  },
  {
   "cell_type": "code",
   "execution_count": null,
   "id": "01e49af7",
   "metadata": {
    "hidden": true
   },
   "outputs": [],
   "source": [
    "corrects=[]\n",
    "wrongs = [] \n",
    "tot_links = []\n",
    "for n in [100,200,300,400,500]:\n",
    "    corr, wron, tot_li = experiment_10dim_fixedCoeff(coeffs[2], n=n, noise=0.1, n_reps=10, tau=3, tau2=3)\n",
    "    corrects.append(corr)\n",
    "    wrongs.append(wron)\n",
    "    tot_links.append(tot_li)\n"
   ]
  },
  {
   "cell_type": "code",
   "execution_count": null,
   "id": "8b407c8f",
   "metadata": {
    "hidden": true
   },
   "outputs": [],
   "source": [
    "corrects"
   ]
  },
  {
   "cell_type": "code",
   "execution_count": null,
   "id": "c90fb886",
   "metadata": {
    "hidden": true
   },
   "outputs": [],
   "source": [
    "wrongs"
   ]
  },
  {
   "cell_type": "code",
   "execution_count": null,
   "id": "620b3024",
   "metadata": {
    "hidden": true
   },
   "outputs": [],
   "source": [
    "tot_links"
   ]
  },
  {
   "cell_type": "markdown",
   "id": "a12b2678",
   "metadata": {
    "heading_collapsed": true
   },
   "source": [
    "### variable tau"
   ]
  },
  {
   "cell_type": "code",
   "execution_count": null,
   "id": "6af29b31",
   "metadata": {
    "hidden": true
   },
   "outputs": [],
   "source": [
    "corrects=[]\n",
    "wrongs = [] \n",
    "tot_links = []\n",
    "for tau in [2,3,4,5]:\n",
    "    corr, wron, tot_li = experiment_10dim_fixedCoeff(coeffs[2], n=300, noise=0.1, n_reps=10, tau=tau, tau2=tau)\n",
    "    corrects.append(corr)\n",
    "    wrongs.append(wron)\n",
    "    tot_links.append(tot_li)\n"
   ]
  },
  {
   "cell_type": "code",
   "execution_count": null,
   "id": "300611af",
   "metadata": {
    "hidden": true
   },
   "outputs": [],
   "source": [
    "corrects"
   ]
  },
  {
   "cell_type": "code",
   "execution_count": null,
   "id": "84ba96a2",
   "metadata": {
    "hidden": true
   },
   "outputs": [],
   "source": [
    "wrongs"
   ]
  },
  {
   "cell_type": "code",
   "execution_count": null,
   "id": "aaeb998c",
   "metadata": {
    "hidden": true
   },
   "outputs": [],
   "source": [
    "tot_links"
   ]
  },
  {
   "cell_type": "markdown",
   "id": "0a4f796d",
   "metadata": {},
   "source": [
    "### variable coefficients"
   ]
  },
  {
   "cell_type": "code",
   "execution_count": null,
   "id": "b6d355ac",
   "metadata": {
    "scrolled": true
   },
   "outputs": [],
   "source": [
    "rng = np.random.default_rng(seed=0)\n",
    "random.seed(0)\n",
    "np.random.seed(0)\n",
    "coeffs = []\n",
    "\n",
    "for i in range(10):\n",
    "    cc=[]\n",
    "    while len(cc)<10:\n",
    "        val = rng.uniform(-1,1)\n",
    "        if (((val<=-0.5) | (val>=0.5))):\n",
    "            cc.append(val)\n",
    "    coeffs.append(cc)\n",
    "print(coeffs)\n",
    "\n"
   ]
  },
  {
   "cell_type": "code",
   "execution_count": null,
   "id": "02e4c203",
   "metadata": {},
   "outputs": [],
   "source": [
    "coeffs[2]"
   ]
  },
  {
   "cell_type": "code",
   "execution_count": null,
   "id": "4fc91605",
   "metadata": {},
   "outputs": [],
   "source": [
    "corrects=[]\n",
    "wrongs = [] \n",
    "tot_links = []\n",
    "\n",
    "for i in range(5):\n",
    "    corr, wron, tot_li = experiment_10dim_fixedCoeff(coeff=coeffs[i+2], n=300, noise=0.1, n_reps=10, tau=3, tau2=3)\n",
    "    corrects.append(corr)\n",
    "    wrongs.append(wron)\n",
    "    tot_links.append(tot_li)"
   ]
  },
  {
   "cell_type": "code",
   "execution_count": null,
   "id": "cebcea3b",
   "metadata": {},
   "outputs": [],
   "source": [
    "corrects=[]\n",
    "wrongs = [] \n",
    "tot_links = []\n",
    "\n",
    "for i in range(5):\n",
    "    corr, wron, tot_li = experiment_10dim_fixedCoeff(coeff=coeffs[i+2], n=300, noise=0.1, n_reps=10, tau=3, tau2=3)\n",
    "    corrects.append(corr)\n",
    "    wrongs.append(wron)\n",
    "    tot_links.append(tot_li)"
   ]
  },
  {
   "cell_type": "code",
   "execution_count": null,
   "id": "e37d8138",
   "metadata": {},
   "outputs": [],
   "source": [
    "corrects"
   ]
  },
  {
   "cell_type": "code",
   "execution_count": null,
   "id": "27b0938b",
   "metadata": {},
   "outputs": [],
   "source": [
    "corrects"
   ]
  },
  {
   "cell_type": "code",
   "execution_count": null,
   "id": "6810bb11",
   "metadata": {},
   "outputs": [],
   "source": [
    "[[20, 20, 20, 20, 30, 29],\n",
    " [19, 19, 4, 8, 30, 23],\n",
    " [20, 20, 0, 19, 30, 26],\n",
    " [11, 11, 10, 10, 30, 29],\n",
    " [20, 20, 20, 20, 30, 28]]"
   ]
  },
  {
   "cell_type": "code",
   "execution_count": null,
   "id": "6d93ca9a",
   "metadata": {},
   "outputs": [],
   "source": [
    "wrongs"
   ]
  },
  {
   "cell_type": "code",
   "execution_count": null,
   "id": "2571be5f",
   "metadata": {},
   "outputs": [],
   "source": [
    "tot_links"
   ]
  },
  {
   "cell_type": "markdown",
   "id": "f712f440",
   "metadata": {
    "heading_collapsed": true
   },
   "source": [
    "# 15 variables"
   ]
  },
  {
   "cell_type": "code",
   "execution_count": null,
   "id": "03dcc36c",
   "metadata": {
    "hidden": true
   },
   "outputs": [],
   "source": [
    "def generate_dataset_15dim(k, n, seed, noise):\n",
    "    \n",
    "    data_for_X0 = pd.read_csv('../causalFS/data/sampleX0.csv')\n",
    "    data_for_X5 = pd.read_csv('../causalFS/data/sampleX2.csv')\n",
    "    data_for_X7 = pd.read_csv('../causalFS/data/sampleX3.csv')\n",
    "\n",
    "    rng = np.random.default_rng(seed=seed)\n",
    "    random.seed(seed)\n",
    "    np.random.seed(seed)\n",
    "    \n",
    "    ############## independent variables: x0,x5,x7 #################\n",
    "    ### X0\n",
    "    x0 = data_for_X0.iloc[:n+3].values\n",
    "    x0 +=  np.random.randn(len(x0),1) * noise\n",
    "    plt.plot(x0[3:],'r')\n",
    "    \n",
    "    ### X5\n",
    "    x5 = data_for_X5.iloc[:n+3].values\n",
    "    x5 +=  np.random.randn(len(x5),1) * noise\n",
    "    plt.plot(x5[3:],'g')\n",
    "    \n",
    "    ### X7\n",
    "    x7 = data_for_X7.iloc[:n+3].values\n",
    "    x7 +=  np.random.randn(len(x7),1) * noise\n",
    "    plt.plot(x7[3:],'b')\n",
    "    plt.show()\n",
    "    \n",
    "    ############## first order dependence: x4,x8 #################\n",
    "    \n",
    "    x4 = list(np.zeros(n+3))\n",
    "    for i in range(n):\n",
    "        next_val = x0[i+2]*k[0] + np.random.randn() * noise\n",
    "        x4[i+3] = next_val[0] \n",
    "    plt.plot(x4[3:],'r')\n",
    "    \n",
    "    x8 = list(np.zeros(n+3))\n",
    "    for i in range(n):\n",
    "        next_val = x7[i+2]*k[1] + np.random.randn() * noise\n",
    "        x8[i+3] = next_val[0] \n",
    "    plt.plot(x8[3:],'g')\n",
    "    plt.show()\n",
    "    \n",
    "    ############## second order dependence: x3,y #################\n",
    "    \n",
    "    x3 = list(np.zeros(n+3))\n",
    "    for i in range(n):\n",
    "        next_val = x0[i+1]*k[2] + x3[i+2]*k[3] + np.random.randn() * noise\n",
    "        x3[i+3] = next_val[0]\n",
    "    plt.plot(x3[3:],'r')\n",
    "    \n",
    "    y = list(np.zeros(n+3))\n",
    "    for i in range(n):\n",
    "        next_val = y[i+1]*k[6] + x5[i]*k[5] + x8[i+2]*k[4] + np.random.randn() * noise\n",
    "        y[i+3] = next_val[0] \n",
    "    plt.plot(y[3:],'b')\n",
    "    plt.show()\n",
    "    \n",
    "    ############## third order dependence: x3,y #################\n",
    "    \n",
    "    x6 = list(np.zeros(n+3))\n",
    "    for i in range(n):\n",
    "        next_val = y[i+2]*k[7] + np.random.randn() * noise\n",
    "        x6[i+3] = next_val\n",
    "    plt.plot(x6[3:],'r')\n",
    "    \n",
    "    x1 = list(np.zeros(n+3))\n",
    "    for i in range(n):\n",
    "        next_val = y[i+1]*k[8] + np.random.randn() * noise\n",
    "        x1[i+3] = next_val\n",
    "    plt.plot(x1[3:],'g')\n",
    "    \n",
    "    x2 = list(np.zeros(n+3))\n",
    "    for i in range(n):\n",
    "        next_val = y[i+2]*k[9] + np.random.randn() * noise\n",
    "        x2[i+3] = next_val\n",
    "    plt.plot(x2[3:],'b')\n",
    "    plt.show()\n",
    "    \n",
    "    x0 = np.array(x0)[3:].reshape(-1,1)\n",
    "    x1 = np.array(x1)[3:].reshape(-1,1)\n",
    "    x2 = np.array(x2)[3:].reshape(-1,1)\n",
    "    x3 = np.array(x3)[3:].reshape(-1,1)\n",
    "    x4 = np.array(x4)[3:].reshape(-1,1)\n",
    "    x5 = np.array(x5)[3:].reshape(-1,1)\n",
    "    x6 = np.array(x6)[3:].reshape(-1,1)\n",
    "    x7 = np.array(x7)[3:].reshape(-1,1)\n",
    "    x8 = np.array(x8)[3:].reshape(-1,1)\n",
    "    y = np.array(y)[3:].reshape(-1,1)\n",
    "    print(x0.shape, x1.shape,x2.shape, x3.shape, x4.shape, x5.shape, x6.shape, x7.shape, x8.shape, y.shape)\n",
    "\n",
    "    x = np.concatenate((x0,x1,x2,x3,x4,x5,x6,x7,x8),axis=1)\n",
    "    \n",
    "    for i in range(2):\n",
    "        aux_x = np.random.randn(n+3)\n",
    "        plt.plot(aux_x[3:],'b')\n",
    "        \n",
    "        aux_x2 = list(np.zeros(n+3))\n",
    "        for i in range(n):\n",
    "            next_val = aux_x[i+2] * rng.uniform(-1,1) + np.random.randn() * noise\n",
    "            aux_x2[i+3] = next_val\n",
    "        plt.plot(aux_x2[3:],'r')\n",
    "        \n",
    "        aux_x3 = list(np.zeros(n+3))\n",
    "        for i in range(n):\n",
    "            next_val = aux_x2[i+1] * rng.uniform(-1,1) + aux_x3[i] * rng.uniform(-1,1) + np.random.randn() * noise\n",
    "            aux_x3[i+3] = next_val\n",
    "        plt.plot(aux_x3[3:],'g')\n",
    "        x = np.concatenate((x,aux_x[3:].reshape(-1,1),np.array(aux_x2)[3:].reshape(-1,1),np.array(aux_x3)[3:].reshape(-1,1)),axis=1)\n",
    "        plt.show()\n",
    "    \n",
    "    return x,y\n",
    "\n"
   ]
  },
  {
   "cell_type": "code",
   "execution_count": null,
   "id": "82fb5415",
   "metadata": {
    "hidden": true
   },
   "outputs": [],
   "source": [
    "def experiment_15dim_fixedCoeff(coeff, n, noise=0.1, n_reps=10, tau=3, tau2=3):\n",
    "    correct_CMI_forw = 0\n",
    "    wrong_CMI_forw = 0\n",
    "    correct_CMI_back = 0\n",
    "    wrong_CMI_back = 0\n",
    "    correct_TE_forw = 0\n",
    "    wrong_TE_forw = 0\n",
    "    correct_TE_back = 0\n",
    "    wrong_TE_back = 0\n",
    "    correct_fullCI = 0\n",
    "    correct_PCMCI = 0\n",
    "    wrong_fullCI = 0\n",
    "    wrong_PCMCI = 0\n",
    "    \n",
    "    tot_links = 0\n",
    "    correct_links = set([5,8,9])\n",
    "    \n",
    "    res = {\n",
    "                \"delta\" : [], # list with all deltas\n",
    "                \"numSelected\" : [], #\n",
    "                \"selectedFeatures\" : [] \n",
    "            #    \"accuracy\" : [] # list of scores associated with the reduced problem\n",
    "            }\n",
    "    \n",
    "    for seed in range(n_reps):\n",
    "        \n",
    "        ### generate dataset\n",
    "        x,y = generate_dataset_15dim(coeff, n, seed, noise)\n",
    "        \n",
    "        k = round(n/15)\n",
    "        \n",
    "        sel = forwardFeatureSelection(threshold=100,features=x,target=y,res=res,k=k, nproc=1, tau=tau)\n",
    "        print(sel)\n",
    "        CMI_forw_sel = set(sel)\n",
    "        \n",
    "        sel = TE_forwardFeatureSelection(threshold=100,features=x,target=y,res=res,k=k, nproc=1, tau=tau, tau2=tau2)\n",
    "        print(sel)\n",
    "        TE_forw_sel = set(sel)\n",
    "        \n",
    "        sel = backwardFeatureSelection(threshold=0.000001,features=x,target=y,res=res,k=k, nproc=1, tau=tau)\n",
    "        print(sel)\n",
    "        CMI_back_sel = set(sel)\n",
    "    \n",
    "        sel = TE_backwardFeatureSelection(threshold=0.000001,features=x,target=y,res=res,k=k, nproc=1, tau=tau, tau2=tau2)\n",
    "        print(sel)\n",
    "        TE_back_sel = set(sel)\n",
    "        \n",
    "        p = run_fullCI(pd.DataFrame(np.concatenate((x,y),axis=1), columns = ['x0','x1','x2','x3','x4','x5','x6','x7','x8','y','x9','x10','x11','x12','x13','x14']),tau=tau,cond_test=ParCorr())\n",
    "        sel = []\n",
    "        for i in [0,1,2,3,4,5,6,7,8,9,10,11,12,13,14,15]:\n",
    "            if min(p[i,9,:])<0.05:\n",
    "                sel.append(i)\n",
    "        full_CI_sel = set(sel)\n",
    "        print(full_CI_sel)\n",
    "        \n",
    "        p = run_PCMCI(pd.DataFrame(np.concatenate((x,y),axis=1), columns = ['x0','x1','x2','x3','x4','x5','x6','x7','x8','y','x9','x10','x11','x12','x13','x14']),tau=tau,cond_test=ParCorr())\n",
    "        sel = []\n",
    "        for i in [0,1,2,3,4,5,6,7,8,9,10,11,12,13,14,15]:\n",
    "            if min(p[i,9,:])<0.05:\n",
    "                sel.append(i)\n",
    "        PCMCI_sel = set(sel)\n",
    "        print(PCMCI_sel)\n",
    "        \n",
    "        print('\\n\\n')\n",
    "        \n",
    "        correct_CMI_forw += len([found for found in CMI_forw_sel if found in correct_links])\n",
    "        wrong_CMI_forw += len(CMI_forw_sel) - len([found for found in CMI_forw_sel if found in correct_links])\n",
    "        correct_CMI_back += len([found for found in CMI_back_sel if found in correct_links])\n",
    "        wrong_CMI_back += len(CMI_back_sel) - len([found for found in CMI_back_sel if found in correct_links])\n",
    "        correct_TE_forw += len([found for found in TE_forw_sel if found in correct_links])\n",
    "        wrong_TE_forw += len(TE_forw_sel) - len([found for found in TE_forw_sel if found in correct_links])\n",
    "        correct_TE_back += len([found for found in TE_back_sel if found in correct_links])\n",
    "        wrong_TE_back += len(TE_back_sel) - len([found for found in TE_back_sel if found in correct_links])\n",
    "        correct_fullCI += len([found for found in full_CI_sel if found in correct_links])\n",
    "        wrong_fullCI += len(full_CI_sel) - len([found for found in full_CI_sel if found in correct_links])\n",
    "        correct_PCMCI += len([found for found in PCMCI_sel if found in correct_links])\n",
    "        wrong_PCMCI += len(PCMCI_sel) - len([found for found in PCMCI_sel if found in correct_links])\n",
    "        tot_links += len(correct_links)\n",
    "        \n",
    "        #compute_r2([x[:,0],x[:,1]],y,tau=2,n=300)\n",
    "    \n",
    "    corrects = [correct_CMI_forw, correct_CMI_back, correct_TE_forw, correct_TE_back,correct_fullCI,correct_PCMCI]\n",
    "    wrongs = [wrong_CMI_forw, wrong_CMI_back, wrong_TE_forw, wrong_TE_back, wrong_fullCI, wrong_PCMCI]\n",
    "    print(corrects)\n",
    "    print(wrongs)  \n",
    "    print(tot_links)\n",
    "\n",
    "    return corrects, wrongs, tot_links\n"
   ]
  },
  {
   "cell_type": "code",
   "execution_count": null,
   "id": "f033f4a7",
   "metadata": {
    "hidden": true
   },
   "outputs": [],
   "source": [
    "coeffs[2]"
   ]
  },
  {
   "cell_type": "code",
   "execution_count": null,
   "id": "9557c91c",
   "metadata": {
    "hidden": true
   },
   "outputs": [],
   "source": [
    "corrects, wrongs, tot_links = experiment_15dim_fixedCoeff(coeffs[2], n=300, noise=0.1, n_reps=10, tau=3, tau2=3)"
   ]
  },
  {
   "cell_type": "code",
   "execution_count": null,
   "id": "6052cf29",
   "metadata": {
    "hidden": true
   },
   "outputs": [],
   "source": [
    "corrects"
   ]
  },
  {
   "cell_type": "code",
   "execution_count": null,
   "id": "6406d93b",
   "metadata": {
    "hidden": true
   },
   "outputs": [],
   "source": [
    "wrongs"
   ]
  },
  {
   "cell_type": "code",
   "execution_count": null,
   "id": "5142e2f8",
   "metadata": {
    "hidden": true
   },
   "outputs": [],
   "source": [
    "tot_links"
   ]
  },
  {
   "cell_type": "code",
   "execution_count": null,
   "id": "711e376d",
   "metadata": {
    "hidden": true
   },
   "outputs": [],
   "source": [
    "### others: \n",
    "15*10-30"
   ]
  },
  {
   "cell_type": "markdown",
   "id": "bb6cd271",
   "metadata": {
    "heading_collapsed": true
   },
   "source": [
    "# N variables"
   ]
  },
  {
   "cell_type": "code",
   "execution_count": null,
   "id": "cdd35bc1",
   "metadata": {
    "hidden": true
   },
   "outputs": [],
   "source": [
    "def generate_dataset_Ndim(k, n, seed, noise, n_add=2):\n",
    "    \n",
    "    data_for_X0 = pd.read_csv('../causalFS/data/sampleX0.csv')\n",
    "    data_for_X5 = pd.read_csv('../causalFS/data/sampleX2.csv')\n",
    "    data_for_X7 = pd.read_csv('../causalFS/data/sampleX3.csv')\n",
    "\n",
    "    rng = np.random.default_rng(seed=seed)\n",
    "    random.seed(seed)\n",
    "    np.random.seed(seed)\n",
    "    \n",
    "    ############## independent variables: x0,x5,x7 #################\n",
    "    ### X0\n",
    "    x0 = data_for_X0.iloc[:n+3].values\n",
    "    x0 +=  np.random.randn(len(x0),1) * noise\n",
    "    plt.plot(x0[3:],'r')\n",
    "    \n",
    "    ### X5\n",
    "    x5 = data_for_X5.iloc[:n+3].values\n",
    "    x5 +=  np.random.randn(len(x5),1) * noise\n",
    "    plt.plot(x5[3:],'g')\n",
    "    \n",
    "    ### X7\n",
    "    x7 = data_for_X7.iloc[:n+3].values\n",
    "    x7 +=  np.random.randn(len(x7),1) * noise\n",
    "    plt.plot(x7[3:],'b')\n",
    "    plt.show()\n",
    "    \n",
    "    ############## first order dependence: x4,x8 #################\n",
    "    \n",
    "    x4 = list(np.zeros(n+3))\n",
    "    for i in range(n):\n",
    "        next_val = x0[i+2]*k[0] + np.random.randn() * noise\n",
    "        x4[i+3] = next_val[0] \n",
    "    plt.plot(x4[3:],'r')\n",
    "    \n",
    "    x8 = list(np.zeros(n+3))\n",
    "    for i in range(n):\n",
    "        next_val = x7[i+2]*k[1] + np.random.randn() * noise\n",
    "        x8[i+3] = next_val[0] \n",
    "    plt.plot(x8[3:],'g')\n",
    "    plt.show()\n",
    "    \n",
    "    ############## second order dependence: x3,y #################\n",
    "    \n",
    "    x3 = list(np.zeros(n+3))\n",
    "    for i in range(n):\n",
    "        next_val = x0[i+1]*k[2] + x3[i+2]*k[3] + np.random.randn() * noise\n",
    "        x3[i+3] = next_val[0]\n",
    "    plt.plot(x3[3:],'r')\n",
    "    \n",
    "    y = list(np.zeros(n+3))\n",
    "    for i in range(n):\n",
    "        next_val = y[i+1]*k[6] + x5[i]*k[5] + x8[i+2]*k[4] + np.random.randn() * noise\n",
    "        y[i+3] = next_val[0] \n",
    "    plt.plot(y[3:],'b')\n",
    "    plt.show()\n",
    "    \n",
    "    ############## third order dependence: x3,y #################\n",
    "    \n",
    "    x6 = list(np.zeros(n+3))\n",
    "    for i in range(n):\n",
    "        next_val = y[i+2]*k[7] + np.random.randn() * noise\n",
    "        x6[i+3] = next_val\n",
    "    plt.plot(x6[3:],'r')\n",
    "    \n",
    "    x1 = list(np.zeros(n+3))\n",
    "    for i in range(n):\n",
    "        next_val = y[i+1]*k[8] + np.random.randn() * noise\n",
    "        x1[i+3] = next_val\n",
    "    plt.plot(x1[3:],'g')\n",
    "    \n",
    "    x2 = list(np.zeros(n+3))\n",
    "    for i in range(n):\n",
    "        next_val = y[i+2]*k[9] + np.random.randn() * noise\n",
    "        x2[i+3] = next_val\n",
    "    plt.plot(x2[3:],'b')\n",
    "    plt.show()\n",
    "    \n",
    "    x0 = np.array(x0)[3:].reshape(-1,1)\n",
    "    x1 = np.array(x1)[3:].reshape(-1,1)\n",
    "    x2 = np.array(x2)[3:].reshape(-1,1)\n",
    "    x3 = np.array(x3)[3:].reshape(-1,1)\n",
    "    x4 = np.array(x4)[3:].reshape(-1,1)\n",
    "    x5 = np.array(x5)[3:].reshape(-1,1)\n",
    "    x6 = np.array(x6)[3:].reshape(-1,1)\n",
    "    x7 = np.array(x7)[3:].reshape(-1,1)\n",
    "    x8 = np.array(x8)[3:].reshape(-1,1)\n",
    "    y = np.array(y)[3:].reshape(-1,1)\n",
    "    print(x0.shape, x1.shape,x2.shape, x3.shape, x4.shape, x5.shape, x6.shape, x7.shape, x8.shape, y.shape)\n",
    "\n",
    "    x = np.concatenate((x0,x1,x2,x3,x4,x5,x6,x7,x8),axis=1)\n",
    "    \n",
    "    for i in range(n_add):\n",
    "        aux_x = np.random.randn(n+3)\n",
    "        plt.plot(aux_x[3:],'b')\n",
    "        \n",
    "        aux_x2 = list(np.zeros(n+3))\n",
    "        for i in range(n):\n",
    "            next_val = aux_x[i+2] * rng.uniform(-1,1) + np.random.randn() * noise\n",
    "            aux_x2[i+3] = next_val\n",
    "        plt.plot(aux_x2[3:],'r')\n",
    "        \n",
    "        aux_x3 = list(np.zeros(n+3))\n",
    "        for i in range(n):\n",
    "            next_val = aux_x2[i+1] * rng.uniform(-1,1) + aux_x3[i] * rng.uniform(-1,1) + np.random.randn() * noise\n",
    "            aux_x3[i+3] = next_val\n",
    "        plt.plot(aux_x3[3:],'g')\n",
    "        x = np.concatenate((x,aux_x[3:].reshape(-1,1),np.array(aux_x2)[3:].reshape(-1,1),np.array(aux_x3)[3:].reshape(-1,1)),axis=1)\n",
    "        plt.show()\n",
    "    \n",
    "    return x,y\n",
    "\n"
   ]
  },
  {
   "cell_type": "code",
   "execution_count": null,
   "id": "9cb8b7b6",
   "metadata": {
    "hidden": true
   },
   "outputs": [],
   "source": [
    "def experiment_Ndim_fixedCoeff(coeff, n, noise=0.1, n_reps=10, tau=3, tau2=3, n_add=2):\n",
    "    correct_CMI_forw = 0\n",
    "    wrong_CMI_forw = 0\n",
    "    correct_CMI_back = 0\n",
    "    wrong_CMI_back = 0\n",
    "    correct_TE_forw = 0\n",
    "    wrong_TE_forw = 0\n",
    "    correct_TE_back = 0\n",
    "    wrong_TE_back = 0\n",
    "    correct_fullCI = 0\n",
    "    correct_PCMCI = 0\n",
    "    wrong_fullCI = 0\n",
    "    wrong_PCMCI = 0\n",
    "    \n",
    "    tot_links = 0\n",
    "    correct_links = set([5,8,9])\n",
    "    \n",
    "    res = {\n",
    "                \"delta\" : [], # list with all deltas\n",
    "                \"numSelected\" : [], #\n",
    "                \"selectedFeatures\" : [] \n",
    "            #    \"accuracy\" : [] # list of scores associated with the reduced problem\n",
    "            }\n",
    "    \n",
    "    for seed in range(n_reps):\n",
    "        \n",
    "        ### generate dataset\n",
    "        x,y = generate_dataset_Ndim(coeff, n, seed, noise, n_add)\n",
    "        print(f'####### Dimension:{x.shape[1]} ############')\n",
    "        k = round(n/15)\n",
    "        \n",
    "        sel = forwardFeatureSelection(threshold=100,features=x,target=y,res=res,k=k, nproc=1, tau=tau)\n",
    "        print(sel)\n",
    "        CMI_forw_sel = set(sel)\n",
    "        \n",
    "        sel = TE_forwardFeatureSelection(threshold=100,features=x,target=y,res=res,k=k, nproc=1, tau=tau, tau2=tau2)\n",
    "        print(sel)\n",
    "        TE_forw_sel = set(sel)\n",
    "        \n",
    "        sel = backwardFeatureSelection(threshold=0.000001,features=x,target=y,res=res,k=k, nproc=1, tau=tau)\n",
    "        print(sel)\n",
    "        CMI_back_sel = set(sel)\n",
    "    \n",
    "        sel = TE_backwardFeatureSelection(threshold=0.000001,features=x,target=y,res=res,k=k, nproc=1, tau=tau, tau2=tau2)\n",
    "        print(sel)\n",
    "        TE_back_sel = set(sel)\n",
    "        \n",
    "        p = run_fullCI(pd.DataFrame(np.concatenate((x,y),axis=1)),tau=tau,cond_test=ParCorr())\n",
    "        sel = []\n",
    "        for i in range(x.shape[1]+1):\n",
    "            if min(p[i,-1,:])<0.05:\n",
    "                sel.append(i)\n",
    "        full_CI_sel = set(sel)\n",
    "        print(full_CI_sel)\n",
    "        \n",
    "        p = run_PCMCI(pd.DataFrame(np.concatenate((x,y),axis=1)),tau=tau,cond_test=ParCorr())\n",
    "        sel = []\n",
    "        for i in range(x.shape[1]+1):\n",
    "            if min(p[i,-1,:])<0.05:\n",
    "                sel.append(i)\n",
    "        PCMCI_sel = set(sel)\n",
    "        print(PCMCI_sel)\n",
    "        \n",
    "        print('\\n\\n')\n",
    "        \n",
    "        correct_CMI_forw += len([found for found in CMI_forw_sel if found in correct_links])\n",
    "        wrong_CMI_forw += len(CMI_forw_sel) - len([found for found in CMI_forw_sel if found in correct_links])\n",
    "        correct_CMI_back += len([found for found in CMI_back_sel if found in correct_links])\n",
    "        wrong_CMI_back += len(CMI_back_sel) - len([found for found in CMI_back_sel if found in correct_links])\n",
    "        correct_TE_forw += len([found for found in TE_forw_sel if found in correct_links])\n",
    "        wrong_TE_forw += len(TE_forw_sel) - len([found for found in TE_forw_sel if found in correct_links])\n",
    "        correct_TE_back += len([found for found in TE_back_sel if found in correct_links])\n",
    "        wrong_TE_back += len(TE_back_sel) - len([found for found in TE_back_sel if found in correct_links])\n",
    "        correct_fullCI += len([found for found in full_CI_sel if found in correct_links])\n",
    "        wrong_fullCI += len(full_CI_sel) - len([found for found in full_CI_sel if found in correct_links])\n",
    "        correct_PCMCI += len([found for found in PCMCI_sel if found in correct_links])\n",
    "        wrong_PCMCI += len(PCMCI_sel) - len([found for found in PCMCI_sel if found in correct_links])\n",
    "        tot_links += len(correct_links)\n",
    "        \n",
    "        #compute_r2([x[:,0],x[:,1]],y,tau=2,n=300)\n",
    "    \n",
    "    corrects = [correct_CMI_forw, correct_CMI_back, correct_TE_forw, correct_TE_back,correct_fullCI,correct_PCMCI]\n",
    "    wrongs = [wrong_CMI_forw, wrong_CMI_back, wrong_TE_forw, wrong_TE_back, wrong_fullCI, wrong_PCMCI]\n",
    "    print(corrects)\n",
    "    print(wrongs)  \n",
    "    print(tot_links)\n",
    "\n",
    "    return corrects, wrongs, tot_links\n"
   ]
  },
  {
   "cell_type": "code",
   "execution_count": null,
   "id": "0d9eb1b5",
   "metadata": {
    "hidden": true
   },
   "outputs": [],
   "source": [
    "corrects, wrongs, tot_links = experiment_Ndim_fixedCoeff(coeffs[2], n=300, noise=0.1, n_reps=10, tau=3, tau2=3, n_add=2)\n",
    "\n"
   ]
  },
  {
   "cell_type": "code",
   "execution_count": null,
   "id": "49284855",
   "metadata": {
    "hidden": true
   },
   "outputs": [],
   "source": [
    "corrects"
   ]
  },
  {
   "cell_type": "code",
   "execution_count": null,
   "id": "087d6be6",
   "metadata": {
    "hidden": true
   },
   "outputs": [],
   "source": [
    "wrongs"
   ]
  },
  {
   "cell_type": "code",
   "execution_count": null,
   "id": "a1de38dc",
   "metadata": {
    "hidden": true
   },
   "outputs": [],
   "source": [
    "tot_links"
   ]
  },
  {
   "cell_type": "code",
   "execution_count": null,
   "id": "19026626",
   "metadata": {
    "hidden": true
   },
   "outputs": [],
   "source": [
    "corrects, wrongs, tot_links = experiment_Ndim_fixedCoeff(coeffs[2], n=300, noise=0.1, n_reps=10, tau=3, tau2=3, n_add=3)\n"
   ]
  },
  {
   "cell_type": "code",
   "execution_count": null,
   "id": "e9d0b5bf",
   "metadata": {
    "hidden": true
   },
   "outputs": [],
   "source": [
    "print(f'{corrects},\\n{wrongs},\\n{tot_links}')"
   ]
  },
  {
   "cell_type": "code",
   "execution_count": null,
   "id": "94a0c56c",
   "metadata": {
    "hidden": true
   },
   "outputs": [],
   "source": [
    "corrects, wrongs, tot_links = experiment_Ndim_fixedCoeff(coeffs[2], n=300, noise=0.1, n_reps=10, tau=3, tau2=3, n_add=7)\n"
   ]
  },
  {
   "cell_type": "code",
   "execution_count": null,
   "id": "79a64c04",
   "metadata": {
    "hidden": true
   },
   "outputs": [],
   "source": [
    "print(f'{corrects},\\n{wrongs},\\n{tot_links}')"
   ]
  },
  {
   "cell_type": "code",
   "execution_count": null,
   "id": "160a1177",
   "metadata": {
    "hidden": true
   },
   "outputs": [],
   "source": [
    "corrects, wrongs, tot_links = experiment_Ndim_fixedCoeff(coeffs[2], n=300, noise=0.1, n_reps=10, tau=3, tau2=3, n_add=10)\n"
   ]
  },
  {
   "cell_type": "code",
   "execution_count": null,
   "id": "bf3b28b3",
   "metadata": {
    "hidden": true
   },
   "outputs": [],
   "source": [
    "print(f'{corrects},\\n{wrongs},\\n{tot_links}')"
   ]
  },
  {
   "cell_type": "code",
   "execution_count": null,
   "id": "3df87a8c",
   "metadata": {
    "hidden": true
   },
   "outputs": [],
   "source": [
    "corrects, wrongs, tot_links = experiment_Ndim_fixedCoeff(coeffs[2], n=300, noise=0.1, n_reps=10, tau=3, tau2=3, n_add=17)\n"
   ]
  },
  {
   "cell_type": "code",
   "execution_count": null,
   "id": "bba58ee1",
   "metadata": {
    "hidden": true
   },
   "outputs": [],
   "source": [
    "print(f'{corrects},\\n{wrongs},\\n{tot_links}')"
   ]
  },
  {
   "cell_type": "code",
   "execution_count": null,
   "id": "c5216635",
   "metadata": {
    "hidden": true
   },
   "outputs": [],
   "source": [
    "corrects, wrongs, tot_links = experiment_Ndim_fixedCoeff(coeffs[2], n=300, noise=0.1, n_reps=10, tau=3, tau2=3, n_add=23)\n"
   ]
  },
  {
   "cell_type": "code",
   "execution_count": null,
   "id": "e77bb39f",
   "metadata": {
    "hidden": true
   },
   "outputs": [],
   "source": [
    "print(f'{corrects},\\n{wrongs},\\n{tot_links}')"
   ]
  },
  {
   "cell_type": "code",
   "execution_count": null,
   "id": "80e1c769",
   "metadata": {
    "hidden": true
   },
   "outputs": [],
   "source": [
    "corrects, wrongs, tot_links = experiment_Ndim_fixedCoeff(coeffs[2], n=300, noise=0.1, n_reps=10, tau=3, tau2=3, n_add=30)\n"
   ]
  },
  {
   "cell_type": "code",
   "execution_count": null,
   "id": "afd1e1dd",
   "metadata": {
    "hidden": true
   },
   "outputs": [],
   "source": [
    "print(f'{corrects},\\n{wrongs},\\n{tot_links}')"
   ]
  }
 ],
 "metadata": {
  "kernelspec": {
   "display_name": "Python 3.9 (tensorflow)",
   "language": "python",
   "name": "tensorflow"
  },
  "language_info": {
   "codemirror_mode": {
    "name": "ipython",
    "version": 3
   },
   "file_extension": ".py",
   "mimetype": "text/x-python",
   "name": "python",
   "nbconvert_exporter": "python",
   "pygments_lexer": "ipython3",
   "version": "3.9.13"
  }
 },
 "nbformat": 4,
 "nbformat_minor": 5
}
